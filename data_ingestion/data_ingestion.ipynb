{
 "cells": [
  {
   "cell_type": "markdown",
   "metadata": {},
   "source": [
    "# Data ingestion"
   ]
  },
  {
   "cell_type": "code",
   "execution_count": 11,
   "metadata": {},
   "outputs": [],
   "source": [
    "from langchain_community.document_loaders import TextLoader"
   ]
  },
  {
   "cell_type": "code",
   "execution_count": 12,
   "metadata": {},
   "outputs": [],
   "source": [
    "# Loading your text file\n",
    "loader = TextLoader(\"./data/speech.txt\")"
   ]
  },
  {
   "cell_type": "code",
   "execution_count": 3,
   "metadata": {},
   "outputs": [],
   "source": [
    "text_document = loader.load()"
   ]
  },
  {
   "cell_type": "code",
   "execution_count": 4,
   "metadata": {},
   "outputs": [
    {
     "data": {
      "text/plain": [
       "[Document(metadata={'source': './speech.txt'}, page_content='Hello!\\nMy name is DAVEWORLD, and I am excited to be your tutor for this program.\\n\\nI am a Data Scientist, Open-source Contributor, and Frontend Engineer with years of experience in the tech industry. Throughout my career, I’ve been privileged to build innovative products, solve real-world problems, and empower over 5,000 individuals to grow into better versions of themselves. My work and insights have also connected me with an audience of over 10,000 followers across social media platforms.\\nLooking ahead, my vision is to create groundbreaking projects and support millions—if not billions—of people in achieving their goals and thriving in the tech industry.\\n\\nIn this program, I am here to guide you every step of the way, ensuring you have an unforgettable learning experience.\\nLet’s embark on this transformative journey together!')]"
      ]
     },
     "execution_count": 4,
     "metadata": {},
     "output_type": "execute_result"
    }
   ],
   "source": [
    "text_document"
   ]
  },
  {
   "cell_type": "code",
   "execution_count": 5,
   "metadata": {},
   "outputs": [
    {
     "data": {
      "text/plain": [
       "list"
      ]
     },
     "execution_count": 5,
     "metadata": {},
     "output_type": "execute_result"
    }
   ],
   "source": [
    "type(text_document)"
   ]
  },
  {
   "cell_type": "code",
   "execution_count": 8,
   "metadata": {},
   "outputs": [
    {
     "data": {
      "text/plain": [
       "'Hello!\\nMy name is DAVEWORLD, and I am excited to be your tutor for this program.\\n\\nI am a Data Scientist, Open-source Contributor, and Frontend Engineer with years of experience in the tech industry. Throughout my career, I’ve been privileged to build innovative products, solve real-world problems, and empower over 5,000 individuals to grow into better versions of themselves. My work and insights have also connected me with an audience of over 10,000 followers across social media platforms.\\nLooking ahead, my vision is to create groundbreaking projects and support millions—if not billions—of people in achieving their goals and thriving in the tech industry.\\n\\nIn this program, I am here to guide you every step of the way, ensuring you have an unforgettable learning experience.\\nLet’s embark on this transformative journey together!'"
      ]
     },
     "execution_count": 8,
     "metadata": {},
     "output_type": "execute_result"
    }
   ],
   "source": [
    "text_document[0].page_content"
   ]
  },
  {
   "cell_type": "code",
   "execution_count": 9,
   "metadata": {},
   "outputs": [],
   "source": [
    "# Load in pdf files\n",
    "from langchain_community.document_loaders import PyPDFLoader"
   ]
  },
  {
   "cell_type": "code",
   "execution_count": 14,
   "metadata": {},
   "outputs": [],
   "source": [
    "loader = PyPDFLoader(\"./data/GenAi Assignment.pdf\")"
   ]
  },
  {
   "cell_type": "code",
   "execution_count": 15,
   "metadata": {},
   "outputs": [],
   "source": [
    "docs = loader.load()"
   ]
  },
  {
   "cell_type": "code",
   "execution_count": 16,
   "metadata": {},
   "outputs": [
    {
     "data": {
      "text/plain": [
       "[Document(metadata={'source': './data/GenAi Assignment.pdf', 'page': 0}, page_content='SAIL Generative AI Programme\\nASSIGNMENT FOR MODULE 1\\nGenerative Artificial Intelligence\\nOdelola Solomon Oluwatobiloba\\nDecember 11, 2024'),\n",
       " Document(metadata={'source': './data/GenAi Assignment.pdf', 'page': 1}, page_content='Contents\\n1 Short Answer Questions 3\\n1.1 What is Artificial Intelligence . . . . . . . . . . . . . . . . . . . . . . . . . 3\\n1.2 Explain the difference between machine learning and deep learning . . . 3\\n1.3 Describe each type of machine learning . . . . . . . . . . . . . . . . . . . 4\\n1.4 Give an example of where Deep Learning might be more effective than\\ntraditional Machine Learning . . . . . . . . . . . . . . . . . . . . . . . . . 4\\n1.5 Write a brief definition for discriminative models and generative models 5\\n2 Algorithm Exploration 6\\n3 Practical Exercise 7\\n4 Reflection 9'),\n",
       " Document(metadata={'source': './data/GenAi Assignment.pdf', 'page': 2}, page_content='C H A P T E R1\\nShort Answer Questions\\n1.1 What is Artificial Intelligence\\nArtificial intelligence is a branch of computer science that leverages the mimicking\\nof human intelligence to build applications that makes life easy and problem solving\\nefficient. AI is also a branch of computer science that embodies machine learning and\\nits sub-domains like deep learning. AI has of recent been the reason most businesses\\nhave been making a lot of income.\\n1.2 Explain the difference between machine learning and\\ndeep learning\\nFirstly, machine learning is a broader field than deep learning and deep learning is a\\nbranch of machine learning while machine learning itself is a branch of AI. Machine\\nlearning is therefore a branch of AI that involves the use of statistical models in making\\npredictions and forecasts by either exposing the models to labelled data or unlabelled\\ndata.\\nOn the other hand, deep learning is a branch of machine learning that uses a large\\nnumber of layers containing neurons to learn patters in complex data in order to make\\naccurate predictions.\\nDeep learning is majorly subdivided into artificial neural networks(ANN), recurrent'),\n",
       " Document(metadata={'source': './data/GenAi Assignment.pdf', 'page': 3}, page_content='4 Short Answer Questions\\nneural networks(RNN), and convolutional neural networks(CNN).\\nANN is a type of deep-learning that uses simpler layers of neurons to make predic-\\ntions, an example of an ANN model is multilayer perceptron(MLP). RNN is a type of\\ndeep learning model that is used for textual or sequential data. CNN is a type of deep\\nlearning model that is used for image classification, object detection\\n1.3 Describe each type of machine learning\\n1. Supervised Learning Supervised learning is a type of machine learning in which\\nmachine learning models are trained on labeled data, i.e., data whose target or\\ndependent variable is present alongside the independent variables. Examples of\\nsuch models are: Logistic regression, random forest , linear regression models,\\nsvm\\n2. Unsupervised Learning deals with unlabeled data, where the goal is to find\\npatterns or structures within the data. This is often used in clustering and dimen-\\nsionality reduction. A real-world example is customer segmentation in marketing,\\nwhere users are grouped based on their behavior or preferences without prede-\\nfined categories.\\n3. Reinforcement Learning focuses on training agents to make sequential decisions\\nby interacting with an environment. The agent learns by receiving rewards or\\npenalties for its actions. A practical example is training autonomous vehicles to\\nnavigate roads safely, optimizing for efficiency and avoiding collisions.\\n1.4 Give an example of where Deep Learning might be\\nmore effective than traditional Machine Learning\\nDeep Learning can be more effective than traditional Machine Learning when dealing\\nwith high-dimensional and unstructured data, such as images, audio, or text. For\\ninstance, in facial recognition tasks, deep learning models like Convolutional Neural\\nNetworks (CNNs) outperform traditional methods by automatically extracting hierar-\\nchical features from images, which would be challenging and less effective with manual'),\n",
       " Document(metadata={'source': './data/GenAi Assignment.pdf', 'page': 4}, page_content='1.5 Write a brief definition for discriminative models and generative models 5\\nfeature engineering used in traditional approaches\\n1.5 Write a brief definition for discriminative models and\\ngenerative models\\n1. Discriminative models : Discriminative models focus on learning the decision\\nboundary between classes by directly modeling the conditional probability\\nP(y/x) (1.1)\\nwhere y represents the label and x represents the input data. These models are\\nprimarily used for classification or regression tasks. Examples include Logistic\\nRegression and Support Vector Machines (SVM).\\n2. Generative Models: Generative models, on the other hand, aim to model the joint\\nprobability distribution\\nP(x, y) (1.2)\\nor the distribution of the input data\\nP(x) (1.3)\\nThey learn how the data is generated, which allows them to create new data\\nsamples similar to the training data. Examples include Gaussian Mixture Models\\n(GMM), Variational Autoencoders (VAE), and Generative Adversarial Networks\\n(GANs).'),\n",
       " Document(metadata={'source': './data/GenAi Assignment.pdf', 'page': 5}, page_content='C H A P T E R2\\nAlgorithm Exploration\\nLogistic Regression is a supervised learning algorithm used to classify data into cate-\\ngories. It works by analyzing input data and predicting the likelihood of an outcome\\nbelonging to a particular class. The model uses a function that compresses outputs into\\nprobabilities between 0 and 1, making it suitable for binary classification tasks. Based\\non these probabilities, it assigns the data to one of the two categories by applying a\\nthreshold, usually 0.5.\\nA practical example is email spam detection. Logistic Regression can classify emails\\nas \"spam\" or \"not spam\" by examining features such as word usage, sender details, and\\nmessage formatting. Its simplicity and effectiveness with structured data make it ideal\\nfor such binary classification problems.'),\n",
       " Document(metadata={'source': './data/GenAi Assignment.pdf', 'page': 6}, page_content='C H A P T E R3\\nPractical Exercise\\n1. Dataset: The Iris dataset from the UCI Machine Learning Repository. The Iris\\ndataset is a small, open-source dataset containing 150 samples of iris flowers,\\nclassified into three species: Setosa, Versicolor, and Virginica. It has four features:\\nsepal length, sepal width, petal length, and petal width.\\n2. Task Explanation This dataset is well-suited for supervised learning because it\\ncontains labeled data, where each flower sample is associated with its correspond-\\ning species. Using this dataset, a supervised learning model can learn to classify\\niris flowers based on their features. Insights include identifying patterns in flower\\nspecies based on measurements, which can help in botanical studies or automated\\nclassification systems.\\n3. Real-World Examples of Discriminative and Generative Models Discriminative\\nModel Example: Email spam classification A discriminative model like Logistic\\nRegression or Support Vector Machines (SVM) analyzes email content and predicts\\nwhether it is spam or not. It focuses on learning the decision boundary between\\n\"spam\" and \"not spam\" classes directly, making it efficient for binary classification\\ntasks.\\n4. Generative Model Example: Image generation with GANs (Generative Adversar-\\nial Networks) GANs are used to create realistic images, such as generating human\\nfaces for art or entertainment. They learn the distribution of the training data and'),\n",
       " Document(metadata={'source': './data/GenAi Assignment.pdf', 'page': 7}, page_content='8 Practical Exercise\\ncan generate entirely new data samples that resemble the original data. This fits\\nthe generative model type because GANs learn to simulate the underlying data\\ndistribution rather than simply classifying inputs.'),\n",
       " Document(metadata={'source': './data/GenAi Assignment.pdf', 'page': 8}, page_content='C H A P T E R4\\nReflection\\n1. Understanding the distinctions between AI, Machine Learning, and Deep Learning\\nis crucial in the field of Generative AI because each layer builds on the other.\\nAI represents the overarching goal of creating systems capable of simulating\\nintelligence. Machine Learning focuses on enabling systems to learn from data,\\nand Deep Learning, as a subset of Machine Learning, specializes in using neural\\nnetworks for complex, high-dimensional data tasks. Generative AI, often reliant\\non Deep Learning models like GANs or transformers, benefits from this layered\\nunderstanding as it enables developers to choose the right tools and techniques for\\ntasks like image synthesis or text generation. This knowledge ensures solutions\\nare optimized for performance, accuracy, and scalability.\\n2. The art industry benefits significantly from generative AI. Tools like DALL-E and\\nMidJourney democratize creativity by enabling anyone to produce high-quality\\ndigital art. They empower artists to prototype ideas, enhance creativity, and\\nexplore new aesthetic territories, while reducing the time and cost of traditional\\nmethods.\\n3. In marketing, generative AI is revolutionizing content creation. It is applied to\\ngenerate personalized advertisements, draft engaging social media content, and\\ndevelop email campaigns tailored to specific customer preferences. Tools like\\nChatGPT and Jasper AI allow marketers to produce persuasive copy quickly,\\nenhancing outreach effectiveness. Furthermore, generative AI models create syn-'),\n",
       " Document(metadata={'source': './data/GenAi Assignment.pdf', 'page': 9}, page_content='10 Reflection\\nthetic customer personas based on historical data, enabling businesses to predict\\ntrends and better target their audiences. This application drives engagement,\\nsaves resources, and increases the overall ROI of marketing strategies.')]"
      ]
     },
     "execution_count": 16,
     "metadata": {},
     "output_type": "execute_result"
    }
   ],
   "source": [
    "docs"
   ]
  },
  {
   "cell_type": "code",
   "execution_count": 17,
   "metadata": {},
   "outputs": [
    {
     "data": {
      "text/plain": [
       "list"
      ]
     },
     "execution_count": 17,
     "metadata": {},
     "output_type": "execute_result"
    }
   ],
   "source": [
    "type(docs)"
   ]
  },
  {
   "cell_type": "code",
   "execution_count": 20,
   "metadata": {},
   "outputs": [],
   "source": [
    "# Web based loader\n",
    "from langchain_community.document_loaders import WebBaseLoader\n",
    "import bs4\n",
    "\n",
    "web_loader = WebBaseLoader(web_paths=(\"https://lilianweng.github.io/posts/2023-06-23-agent/\", ),\n",
    "                           bs_kwargs=dict(parse_only=bs4.SoupStrainer(\n",
    "                                   class_ = (\"post-title\", \"post-header\")\n",
    "                           )))"
   ]
  },
  {
   "cell_type": "code",
   "execution_count": 22,
   "metadata": {},
   "outputs": [
    {
     "data": {
      "text/plain": [
       "[Document(metadata={'source': 'https://lilianweng.github.io/posts/2023-06-23-agent/'}, page_content='\\n\\n      LLM Powered Autonomous Agents\\n    \\nDate: June 23, 2023  |  Estimated Reading Time: 31 min  |  Author: Lilian Weng\\n\\n\\n')]"
      ]
     },
     "execution_count": 22,
     "metadata": {},
     "output_type": "execute_result"
    }
   ],
   "source": [
    "web_loader.load()"
   ]
  },
  {
   "cell_type": "code",
   "execution_count": null,
   "metadata": {},
   "outputs": [],
   "source": []
  }
 ],
 "metadata": {
  "kernelspec": {
   "display_name": "Python 3",
   "language": "python",
   "name": "python3"
  },
  "language_info": {
   "codemirror_mode": {
    "name": "ipython",
    "version": 3
   },
   "file_extension": ".py",
   "mimetype": "text/x-python",
   "name": "python",
   "nbconvert_exporter": "python",
   "pygments_lexer": "ipython3",
   "version": "3.10.0"
  }
 },
 "nbformat": 4,
 "nbformat_minor": 2
}
